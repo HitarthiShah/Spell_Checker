{
 "cells": [
  {
   "cell_type": "code",
   "execution_count": 47,
   "metadata": {},
   "outputs": [
    {
     "name": "stdout",
     "output_type": "stream",
     "text": [
      "Populating the interactive namespace from numpy and matplotlib\n"
     ]
    }
   ],
   "source": [
    "%pylab inline\n",
    "import re\n",
    "import math\n",
    "import string\n",
    "from collections import Counter\n",
    "from __future__ import division\n",
    "import pandas as pd"
   ]
  },
  {
   "cell_type": "code",
   "execution_count": 48,
   "metadata": {},
   "outputs": [
    {
     "data": {
      "text/plain": [
       "6488665"
      ]
     },
     "execution_count": 48,
     "metadata": {},
     "output_type": "execute_result"
    }
   ],
   "source": [
    "TEXT = open('big.txt').read() #read all the words from big.txt\n",
    "len(TEXT)"
   ]
  },
  {
   "cell_type": "code",
   "execution_count": 49,
   "metadata": {
    "collapsed": true
   },
   "outputs": [],
   "source": [
    "#we use re package to filter out unnecessary characters, tokenize the words and convert it to lower case\n",
    "def tokens(text):\n",
    "    return re.findall('[a-z]+', text.lower()) "
   ]
  },
  {
   "cell_type": "code",
   "execution_count": 50,
   "metadata": {},
   "outputs": [
    {
     "data": {
      "text/plain": [
       "['this', 'is', 'a', 'test', 'this', 'is']"
      ]
     },
     "execution_count": 50,
     "metadata": {},
     "output_type": "execute_result"
    }
   ],
   "source": [
    "tokens('This is: A test, 1, 2, 3, this is.')"
   ]
  },
  {
   "cell_type": "code",
   "execution_count": 51,
   "metadata": {},
   "outputs": [
    {
     "data": {
      "text/plain": [
       "1105285"
      ]
     },
     "execution_count": 51,
     "metadata": {},
     "output_type": "execute_result"
    }
   ],
   "source": [
    "WORDS = tokens(TEXT)\n",
    "len(WORDS)"
   ]
  },
  {
   "cell_type": "code",
   "execution_count": 52,
   "metadata": {},
   "outputs": [
    {
     "name": "stdout",
     "output_type": "stream",
     "text": [
      "['the', 'project', 'gutenberg', 'ebook', 'of', 'the', 'adventures', 'of', 'sherlock', 'holmes']\n"
     ]
    }
   ],
   "source": [
    "print(WORDS[:10]) #print first few words"
   ]
  },
  {
   "cell_type": "code",
   "execution_count": 53,
   "metadata": {},
   "outputs": [
    {
     "data": {
      "text/plain": [
       "Counter({'a': 2, 'is': 2, 'it': 1, 'test': 2, 'this': 1})"
      ]
     },
     "execution_count": 53,
     "metadata": {},
     "output_type": "execute_result"
    }
   ],
   "source": [
    "Counter(tokens('Is this a test? It is a test!')) #to make up something like a dictionary to store the number of occourences of every word"
   ]
  },
  {
   "cell_type": "code",
   "execution_count": 54,
   "metadata": {},
   "outputs": [
    {
     "name": "stdout",
     "output_type": "stream",
     "text": [
      "[('the', 80030), ('of', 40025), ('and', 38313), ('to', 28766), ('in', 22050), ('a', 21155), ('that', 12512), ('he', 12401), ('was', 11410), ('it', 10681)]\n"
     ]
    }
   ],
   "source": [
    "COUNTS = Counter(WORDS)\n",
    "\n",
    "print(COUNTS.most_common(10))"
   ]
  },
  {
   "cell_type": "code",
   "execution_count": 55,
   "metadata": {},
   "outputs": [
    {
     "name": "stdout",
     "output_type": "stream",
     "text": [
      "the 80030\n",
      "rare 83\n",
      "and 38313\n",
      "neverbeforeseen 0\n",
      "words 460\n"
     ]
    }
   ],
   "source": [
    "for w in tokens('the rare and neverbeforeseen words'):\n",
    "    print(w,COUNTS[w])"
   ]
  },
  {
   "cell_type": "markdown",
   "metadata": {},
   "source": [
    "### Spell Checker\n",
    "        \n"
   ]
  },
  {
   "cell_type": "code",
   "execution_count": 104,
   "metadata": {
    "collapsed": true
   },
   "outputs": [],
   "source": [
    "def correct(word):\n",
    "    #Generating all the words with edit distance of 0, 1 & 2\n",
    "    \n",
    "    #print(candidates)\n",
    "    #print(COUNTS.get)\n",
    "    \n",
    "    distance0 = known(edits0(word))\n",
    "    distance1 = known(edits1(word))\n",
    "    distance2 = known(edits2(word))\n",
    "    \n",
    "    candidates = (distance0 or \n",
    "                  distance1 or \n",
    "                  distance2 or \n",
    "                  [word])\n",
    "    \n",
    "    if len(distance0) != 0:\n",
    "        return max(distance0, key = COUNTS.get)\n",
    "    \n",
    "    if len(distance1) != 0:\n",
    "        return max(distance1, key = COUNTS.get)\n",
    "    \n",
    "    if len(distance2) != 0:\n",
    "        return max(distance2, key = COUNTS.get)\n",
    "    \n",
    "    return max(candidates, key=COUNTS.get)"
   ]
  },
  {
   "cell_type": "code",
   "execution_count": 105,
   "metadata": {
    "collapsed": true
   },
   "outputs": [],
   "source": [
    "def known(words):\n",
    "    #Return the subset of words that are actually in the dictionary.\"\n",
    "    return {w for w in words if w in COUNTS}\n",
    "\n",
    "def edits0(word): \n",
    "    return {word}\n",
    "\n",
    "def edits2(word):\n",
    "    return {e2 for e1 in edits1(word) for e2 in edits1(e1)}"
   ]
  },
  {
   "cell_type": "markdown",
   "metadata": {},
   "source": [
    "Now for `edits1(word)`: the set of candidate words that are one edit away. For example, given `\"wird\"`, this would include `\"weird\"` (inserting an `e`) and `\"word\"` (replacing a `i` with a `o`), and also `\"iwrd\"` (transposing `w` and `i`; then `known` can be used to filter this out of the set of final candidates). How could we get them?  One way is to *split* the original word in all possible places, each split forming a *pair* of words, `(a, b)`, before and after the place, and at each place, either delete, transpose, replace, or insert a letter:\n",
    "\n",
    "<table>\n",
    "  <tr><td> pairs: <td><tt> Ø+wird <td><tt> w+ird <td><tt> wi+rd <td><tt>wir+d<td><tt>wird+Ø<td><i>Notes:</i><tt> (<i>a</i>, <i>b</i>)</tt> pair</i>\n",
    "  <tr><td> deletions: <td><tt>Ø+ird<td><tt> w+rd<td><tt> wi+d<td><tt> wir+Ø<td><td><i>Delete first char of b</i>\n",
    "  <tr><td> transpositions: <td><tt>Ø+iwrd<td><tt> w+rid<td><tt> wi+dr</tt><td><td><td><i>Swap first two chars of b\n",
    "  <tr><td> replacements: <td><tt>Ø+?ird<td><tt> w+?rd<td><tt> wi+?d<td><tt> wir+?</tt><td><td><i>Replace char at start of b\n",
    "  <tr><td> insertions: <td><tt>Ø+?+wird<td><tt> w+?+ird<td><tt> wi+?+rd<td><tt> wir+?+d<td><tt> wird+?+Ø</tt><td><i>Insert char between a and b\n",
    "</table>"
   ]
  },
  {
   "cell_type": "code",
   "execution_count": 106,
   "metadata": {
    "collapsed": true
   },
   "outputs": [],
   "source": [
    "def edits1(word):\n",
    "    pairs      = splits(word)\n",
    "    deletes    = [a+b[1:]           for (a, b) in pairs if b]\n",
    "    transposes = [a+b[1]+b[0]+b[2:] for (a, b) in pairs if len(b) > 1]\n",
    "    replaces   = [a+c+b[1:]         for (a, b) in pairs for c in alphabet if b]\n",
    "    inserts    = [a+c+b             for (a, b) in pairs for c in alphabet]\n",
    "    return set(deletes + transposes + replaces + inserts)\n",
    "\n",
    "def splits(word):\n",
    "    return [(word[:i], word[i:]) \n",
    "            for i in range(len(word)+1)]\n",
    "\n",
    "alphabet = 'abcdefghijklmnopqrstuvwxyz'"
   ]
  },
  {
   "cell_type": "code",
   "execution_count": 107,
   "metadata": {
    "scrolled": true
   },
   "outputs": [
    {
     "data": {
      "text/plain": [
       "[('', 'wird'), ('w', 'ird'), ('wi', 'rd'), ('wir', 'd'), ('wird', '')]"
      ]
     },
     "execution_count": 107,
     "metadata": {},
     "output_type": "execute_result"
    }
   ],
   "source": [
    "splits('wird')"
   ]
  },
  {
   "cell_type": "code",
   "execution_count": 108,
   "metadata": {},
   "outputs": [
    {
     "name": "stdout",
     "output_type": "stream",
     "text": [
      "{'wird'}\n"
     ]
    }
   ],
   "source": [
    "print(edits0('wird'))"
   ]
  },
  {
   "cell_type": "code",
   "execution_count": 109,
   "metadata": {},
   "outputs": [
    {
     "name": "stdout",
     "output_type": "stream",
     "text": [
      "390\n"
     ]
    }
   ],
   "source": [
    "print(len(edits1('speling')))"
   ]
  },
  {
   "cell_type": "code",
   "execution_count": 110,
   "metadata": {},
   "outputs": [
    {
     "name": "stdout",
     "output_type": "stream",
     "text": [
      "24254\n"
     ]
    }
   ],
   "source": [
    "print(len(edits2('wird')))"
   ]
  },
  {
   "cell_type": "code",
   "execution_count": 111,
   "metadata": {},
   "outputs": [],
   "source": [
    "#list(map(correct, tokens('Speling errrs in edvise. Whutever; unusuel misteakes everyware?')))"
   ]
  },
  {
   "cell_type": "code",
   "execution_count": 112,
   "metadata": {},
   "outputs": [
    {
     "data": {
      "text/plain": [
       "24"
      ]
     },
     "execution_count": 112,
     "metadata": {},
     "output_type": "execute_result"
    }
   ],
   "source": [
    "COUNTS['wise']"
   ]
  },
  {
   "cell_type": "code",
   "execution_count": 113,
   "metadata": {},
   "outputs": [
    {
     "data": {
      "text/plain": [
       "0"
      ]
     },
     "execution_count": 113,
     "metadata": {},
     "output_type": "execute_result"
    }
   ],
   "source": [
    "COUNTS['transportibility']"
   ]
  },
  {
   "cell_type": "code",
   "execution_count": null,
   "metadata": {},
   "outputs": [],
   "source": []
  },
  {
   "cell_type": "code",
   "execution_count": 114,
   "metadata": {},
   "outputs": [],
   "source": [
    "\n",
    "\n",
    "\n",
    "#test_submit_df = pd.read_csv('hemal_test.csv')\n",
    "#test_submit_df.head(5)"
   ]
  },
  {
   "cell_type": "code",
   "execution_count": 115,
   "metadata": {},
   "outputs": [
    {
     "name": "stdout",
     "output_type": "stream",
     "text": [
      "0\n"
     ]
    }
   ],
   "source": [
    "error_counter =0\n",
    "error_clash =[]\n",
    "#COUNTS_dict = dict(COUNTS)\n",
    "for key in test_df['WRONG']:\n",
    "    if key in COUNTS.keys():\n",
    "        error_counter += 1\n",
    "        del COUNTS[key]\n",
    "        #print(list(map(correct, tokens(key))))\n",
    "        \n",
    "print(error_counter)"
   ]
  },
  {
   "cell_type": "code",
   "execution_count": null,
   "metadata": {
    "collapsed": true
   },
   "outputs": [],
   "source": []
  },
  {
   "cell_type": "code",
   "execution_count": 116,
   "metadata": {
    "collapsed": true
   },
   "outputs": [],
   "source": [
    "test_df.drop('ID', axis=1)\n",
    "test_list = test_df['WRONG'].tolist()\n",
    "#print(test_list)"
   ]
  },
  {
   "cell_type": "markdown",
   "metadata": {},
   "source": [
    "Can we make the output prettier than that?"
   ]
  },
  {
   "cell_type": "code",
   "execution_count": 117,
   "metadata": {
    "collapsed": true
   },
   "outputs": [],
   "source": [
    "def correct_text(text):\n",
    "    return re.sub('[a-zA-Z]+', correct_match, text)\n",
    "\n",
    "def correct_match(match):\n",
    "    word = match.group()\n",
    "    return case_of(word)(correct(word.lower()))\n",
    "\n",
    "def case_of(text):\n",
    "    return (str.upper if text.isupper() else\n",
    "            str.lower if text.islower() else\n",
    "            str.title if text.istitle() else\n",
    "            str)"
   ]
  },
  {
   "cell_type": "code",
   "execution_count": 118,
   "metadata": {},
   "outputs": [
    {
     "data": {
      "text/plain": [
       "['contenpted',\n",
       " 'begining',\n",
       " 'problam',\n",
       " 'dirven',\n",
       " 'exstacy',\n",
       " 'guic',\n",
       " 'localy',\n",
       " 'compair',\n",
       " 'pronounciation',\n",
       " 'transportibility',\n",
       " 'miniscule',\n",
       " 'independant',\n",
       " 'aranged',\n",
       " 'poartry',\n",
       " 'leval',\n",
       " 'basicaly',\n",
       " 'triangulaur',\n",
       " 'unexpcted',\n",
       " 'stanerdizing',\n",
       " 'varable',\n",
       " 'futher',\n",
       " 'monitering',\n",
       " 'biscits',\n",
       " 'avaible',\n",
       " 'seperate',\n",
       " 'neccesary',\n",
       " 'defenition',\n",
       " 'receit',\n",
       " 'remine',\n",
       " 'inetials',\n",
       " 'magnificnet',\n",
       " 'annt',\n",
       " 'intial',\n",
       " 'ther',\n",
       " 'experances',\n",
       " 'biult',\n",
       " 'totaly',\n",
       " 'undersand',\n",
       " 'southen',\n",
       " 'definately',\n",
       " 'fisited',\n",
       " 'volantry',\n",
       " 'ment',\n",
       " 'recieve',\n",
       " 'sorces',\n",
       " 'wether',\n",
       " 'usefull',\n",
       " 'litriture',\n",
       " 'valubale',\n",
       " 'desicate',\n",
       " 'clearical',\n",
       " 'spledid',\n",
       " 'beetween',\n",
       " 'completly',\n",
       " 'acount',\n",
       " 'cemetary',\n",
       " 'speaical',\n",
       " 'lates',\n",
       " 'perhapse',\n",
       " 'rember',\n",
       " 'chaper',\n",
       " 'cak',\n",
       " 'vairious',\n",
       " 'febuary',\n",
       " 'pertend',\n",
       " 'chosing',\n",
       " 'rote',\n",
       " 'particulaur',\n",
       " 'awfall',\n",
       " 'arragment',\n",
       " 'chalenges',\n",
       " 'lagh',\n",
       " 'ofen',\n",
       " 'somone',\n",
       " 'personnell',\n",
       " 'uneque',\n",
       " 'diagrammaticaally',\n",
       " 'discription',\n",
       " 'poims',\n",
       " 'perple',\n",
       " 'descide',\n",
       " 'articals',\n",
       " 'possition',\n",
       " 'extented',\n",
       " 'hierachial',\n",
       " 'realy',\n",
       " 'voteing',\n",
       " 'comittee',\n",
       " 'wantid',\n",
       " 'benifits',\n",
       " 'defenitions',\n",
       " 'scisors',\n",
       " 'levals',\n",
       " 'paralel',\n",
       " 'accomodation',\n",
       " 'planed',\n",
       " 'hierchy',\n",
       " 'transfred',\n",
       " 'muinets',\n",
       " 'aranging',\n",
       " 'accesing',\n",
       " 'stomac',\n",
       " 'unfortunatly',\n",
       " 'conciderable',\n",
       " 'acess',\n",
       " 'singulaur',\n",
       " 'scarcly',\n",
       " 'questionaire',\n",
       " 'experance',\n",
       " 'possable',\n",
       " 'reafreshment',\n",
       " 'embaras',\n",
       " 'vistors',\n",
       " 'auxillary',\n",
       " 'descided',\n",
       " 'benifit',\n",
       " 'concider',\n",
       " 'failes',\n",
       " 'carrer',\n",
       " 'occurence',\n",
       " 'cirtain',\n",
       " 'poame',\n",
       " 'liew',\n",
       " 'astablishing',\n",
       " 'diffrent',\n",
       " 'lones',\n",
       " 'extreamly',\n",
       " 'addresable',\n",
       " 'galery',\n",
       " 'centraly',\n",
       " 'familes',\n",
       " 'bicycal',\n",
       " 'choise',\n",
       " 'opisite',\n",
       " 'cartains',\n",
       " 'adress',\n",
       " 'liaision',\n",
       " 'managment',\n",
       " 'inconvienient',\n",
       " 'vairiant',\n",
       " 'supercede',\n",
       " 'apeal',\n",
       " 'emploies',\n",
       " 'encorage',\n",
       " 'perminant',\n",
       " 'mathematicaly',\n",
       " 'dsata',\n",
       " 'perminantly',\n",
       " 'hierachial',\n",
       " 'provisoe',\n",
       " 'moveing',\n",
       " 'alow',\n",
       " 'creadit',\n",
       " 'availble',\n",
       " 'traditionaly',\n",
       " 'adabtable',\n",
       " 'latter',\n",
       " 'graphicaly',\n",
       " 'eventully',\n",
       " 'doupt',\n",
       " 'academicly',\n",
       " 'subsequant',\n",
       " 'missleading',\n",
       " 'ordenary',\n",
       " 'assosiated',\n",
       " 'volantary',\n",
       " 'enomosly',\n",
       " 'tasble',\n",
       " 'usful',\n",
       " 'thermawere',\n",
       " 'plesent',\n",
       " 'beeteen',\n",
       " 'apreciation',\n",
       " 'acept',\n",
       " 'suufering',\n",
       " 'comparrison',\n",
       " 'majorty',\n",
       " 'umberalla',\n",
       " 'disiplin',\n",
       " 'arrangment',\n",
       " 'prepaired',\n",
       " 'suficient',\n",
       " 'wagted',\n",
       " 'orentated',\n",
       " 'inut',\n",
       " 'pivting',\n",
       " 'proffit',\n",
       " 'agences',\n",
       " 'acumulated',\n",
       " 'manualy',\n",
       " 'representitive',\n",
       " 'emploied',\n",
       " 'contuned',\n",
       " 'draged',\n",
       " 'unresloved',\n",
       " 'comppared',\n",
       " 'noe',\n",
       " 'anouncing',\n",
       " 'unequaled',\n",
       " 'curruntly',\n",
       " 'tittles',\n",
       " 'reching',\n",
       " 'aproached',\n",
       " 'sugestion',\n",
       " 'avaiblity',\n",
       " 'desention',\n",
       " 'cancelation',\n",
       " 'trasactions',\n",
       " 'belive',\n",
       " 'operatins',\n",
       " 'reulting',\n",
       " 'descides',\n",
       " 'unequivocaly',\n",
       " 'muinutes',\n",
       " 'understadable',\n",
       " 'dependance',\n",
       " 'supposidly',\n",
       " 'subtrcat',\n",
       " 'sheertes',\n",
       " 'consisit',\n",
       " 'imidatly',\n",
       " 'exponentualy',\n",
       " 'overal',\n",
       " 'indead',\n",
       " 'seperated',\n",
       " 'lengh',\n",
       " 'familys',\n",
       " 'nessisitates',\n",
       " 'discribed',\n",
       " 'pimarily',\n",
       " 'sugested',\n",
       " 'possablities',\n",
       " 'biulding',\n",
       " 'universaly',\n",
       " 'unessasarily',\n",
       " 'begining',\n",
       " 'anf',\n",
       " 'coments',\n",
       " 'thw',\n",
       " 'declaratrions',\n",
       " 'supervison',\n",
       " 'questionare',\n",
       " 'develope',\n",
       " 'unavailble',\n",
       " 'apointments',\n",
       " 'varible',\n",
       " 'repetative',\n",
       " 'equaled',\n",
       " 'bonas',\n",
       " 'diemands',\n",
       " 'scrutiniesed',\n",
       " 'reciently',\n",
       " 'cleark',\n",
       " 'adiquate',\n",
       " 'fealing',\n",
       " 'familer',\n",
       " 'acepted',\n",
       " 'accesing',\n",
       " 'seperation',\n",
       " 'equiries',\n",
       " 'recieving',\n",
       " 'proceduer',\n",
       " 'concieved',\n",
       " 'generataed',\n",
       " 'flexable',\n",
       " 'analiss',\n",
       " 'particulary',\n",
       " 'rouint',\n",
       " 'natior',\n",
       " 'ganing',\n",
       " 'geniva',\n",
       " 'intresting',\n",
       " 'suroundings',\n",
       " 'oppertunity',\n",
       " 'functionaly',\n",
       " 'togehter',\n",
       " 'aproach',\n",
       " 'scheem',\n",
       " 'occureed',\n",
       " 'preffeson',\n",
       " 'recomend',\n",
       " 'examin',\n",
       " 'thear',\n",
       " 'reajusted',\n",
       " 'biuld',\n",
       " 'oranisation',\n",
       " 'unversity',\n",
       " 'utalised',\n",
       " 'optaning',\n",
       " 'comersial',\n",
       " 'embelishing',\n",
       " 'desription',\n",
       " 'ediion',\n",
       " 'forbiden',\n",
       " 'aplicable',\n",
       " 'committe',\n",
       " 'serch',\n",
       " 'nessesity',\n",
       " 'similar',\n",
       " 'luckeley',\n",
       " 'economtric',\n",
       " 'agiin',\n",
       " 'pattarns',\n",
       " 'aalysing',\n",
       " 'variatry',\n",
       " 'widly',\n",
       " 'araingements',\n",
       " 'chalange',\n",
       " 'forth',\n",
       " 'acounts',\n",
       " 'polatics',\n",
       " 'descisions',\n",
       " 'sence',\n",
       " 'benificial',\n",
       " 'aurguing',\n",
       " 'contually',\n",
       " 'aquantences',\n",
       " 'extreemly',\n",
       " 'exessively',\n",
       " 'compossed',\n",
       " 'seeen',\n",
       " 'nationaly',\n",
       " 'sorce',\n",
       " 'monthes',\n",
       " 'progressess',\n",
       " 'wer',\n",
       " 'brif',\n",
       " 'matriiix',\n",
       " 'vistor',\n",
       " 'adequattly',\n",
       " 'seurity',\n",
       " 'sucsesive',\n",
       " 'consisiting',\n",
       " 'pere',\n",
       " 'comit',\n",
       " 'excxept',\n",
       " 'conversly',\n",
       " 'deciscions',\n",
       " 'unioun',\n",
       " 'whn',\n",
       " 'hown',\n",
       " 'wil',\n",
       " 'suted',\n",
       " 'necasery',\n",
       " 'esential',\n",
       " 'goverment',\n",
       " 'unessessay',\n",
       " 'disaggreagte',\n",
       " 'aurgument',\n",
       " 'choises',\n",
       " 'conferance',\n",
       " 'proceding',\n",
       " 'proffits',\n",
       " 'apparant',\n",
       " 'idealy',\n",
       " 'ablity',\n",
       " 'responsiblities',\n",
       " 'arte',\n",
       " 'mony',\n",
       " 'servaying',\n",
       " 'provid',\n",
       " 'withing',\n",
       " 'sesion',\n",
       " 'faulse',\n",
       " 'anual',\n",
       " 'sumarys',\n",
       " 'refereence',\n",
       " 'empolyment',\n",
       " 'et',\n",
       " 'paerticulaur',\n",
       " 'serounding',\n",
       " 'chose',\n",
       " 'journaism',\n",
       " 'anoying',\n",
       " 'expence',\n",
       " 'recieve',\n",
       " 'howeverr',\n",
       " 'suplementary',\n",
       " 'vertually',\n",
       " 'forcast',\n",
       " 'heiarky',\n",
       " 'comibine',\n",
       " 'rquested',\n",
       " 'despratly',\n",
       " 'apreciated',\n",
       " 'safegaurd',\n",
       " 'shortend',\n",
       " 'confermation',\n",
       " 'advantageos',\n",
       " 'thees',\n",
       " 'befor',\n",
       " 'progresion',\n",
       " 'componant',\n",
       " 'numbuers',\n",
       " 'adjurnment',\n",
       " 'acording',\n",
       " 'oppinion',\n",
       " 'advice',\n",
       " 'carear',\n",
       " 'resoved',\n",
       " 'accessability',\n",
       " 'negligable',\n",
       " 'studens',\n",
       " 'faverable',\n",
       " 'tecniques',\n",
       " 'atmospher',\n",
       " 'exsactly',\n",
       " 'especaily',\n",
       " 'proprtions',\n",
       " 'goegraphicaly',\n",
       " 'encompasing',\n",
       " 'stoped',\n",
       " 'relavent',\n",
       " 'thay',\n",
       " 'upplied',\n",
       " 'elimiated',\n",
       " 'containg',\n",
       " 'conditining',\n",
       " 'sucssuful',\n",
       " 'quies',\n",
       " 'agravating',\n",
       " 'errounous',\n",
       " 'wepons',\n",
       " 'corparate',\n",
       " 'inconcievable',\n",
       " 'oranised',\n",
       " 'sensable',\n",
       " 'studing',\n",
       " 'eximination',\n",
       " 'analiss',\n",
       " 'lonley',\n",
       " 'intrest',\n",
       " 'comittees',\n",
       " 'explaning',\n",
       " 'humor',\n",
       " 'thorts',\n",
       " 'timeing',\n",
       " 'dificulty',\n",
       " 'currers',\n",
       " 'rgister',\n",
       " 'nite',\n",
       " 'appoitment',\n",
       " 'servays',\n",
       " 'appologies',\n",
       " 'aproximatly',\n",
       " 'throut',\n",
       " 'piror',\n",
       " 'executted',\n",
       " 'anomolies',\n",
       " 'relativly',\n",
       " 'anouncement',\n",
       " 'acompaning',\n",
       " 'projeccts',\n",
       " 'analised',\n",
       " 'therefoe',\n",
       " 'perametres',\n",
       " 'wheras',\n",
       " 'ther',\n",
       " 'discresion',\n",
       " 'handel',\n",
       " 'dissapoiting',\n",
       " 'expanion',\n",
       " 'personel',\n",
       " 'sienior',\n",
       " 'appologised',\n",
       " 'seporate',\n",
       " 'meen',\n",
       " 'guidlines',\n",
       " 'buisy',\n",
       " 'easyly',\n",
       " 'colate',\n",
       " 'sysem',\n",
       " 'speeking',\n",
       " 'interogationg',\n",
       " 'drasticaly',\n",
       " 'dificult',\n",
       " 'ineffiect',\n",
       " 'opertor',\n",
       " 'oputput',\n",
       " 'basse',\n",
       " 'regined',\n",
       " 'controled',\n",
       " 'reffered',\n",
       " 'irrelavent',\n",
       " 'athough',\n",
       " 'yesars',\n",
       " 'meens',\n",
       " 'tecnique',\n",
       " 'niether',\n",
       " 'reequired',\n",
       " 'correspondance',\n",
       " 'interpritation',\n",
       " 'segemnt',\n",
       " 'throuout',\n",
       " 'quaties',\n",
       " 'financialy',\n",
       " 'inteligence',\n",
       " 'recives',\n",
       " 'citisum',\n",
       " 'whould',\n",
       " 'investegated',\n",
       " 'recomending',\n",
       " 'earlyest',\n",
       " 'imediate']"
      ]
     },
     "execution_count": 118,
     "metadata": {},
     "output_type": "execute_result"
    }
   ],
   "source": [
    "test_df = pd.read_csv('test.csv')\n",
    "df = test_df.drop(['ID'], axis=1)\n",
    "\n",
    "df_list = df['WRONG'].tolist() \n",
    "df_list    "
   ]
  },
  {
   "cell_type": "code",
   "execution_count": 119,
   "metadata": {},
   "outputs": [
    {
     "name": "stdout",
     "output_type": "stream",
     "text": [
      "504\n",
      "Wall time: 1min 14s\n"
     ]
    }
   ],
   "source": [
    "%%time\n",
    "\n",
    "correct_list = []\n",
    "for word in df_list:\n",
    "    correct_list.append(correct_text(word))\n",
    "    \n",
    "print(len(correct_list))  "
   ]
  },
  {
   "cell_type": "code",
   "execution_count": 120,
   "metadata": {
    "collapsed": true
   },
   "outputs": [],
   "source": [
    "import csv\n",
    "\n",
    "csvfile = \"hemal_test1.csv\"\n",
    "\n",
    "#Assuming res is a flat list\n",
    "with open(csvfile, \"w\") as output:\n",
    "    writer = csv.writer(output, lineterminator='\\n')\n",
    "    for val in correct_list:\n",
    "        writer.writerow([val])  \n"
   ]
  },
  {
   "cell_type": "code",
   "execution_count": 26,
   "metadata": {},
   "outputs": [
    {
     "data": {
      "text/plain": [
       "'Spelling Errors IN something. Whatever; unusual mistakes?'"
      ]
     },
     "execution_count": 26,
     "metadata": {},
     "output_type": "execute_result"
    }
   ],
   "source": [
    "correct_text('Speling Errurs IN somethink. Whutever; unusuel misteakes?')"
   ]
  },
  {
   "cell_type": "code",
   "execution_count": 27,
   "metadata": {},
   "outputs": [
    {
     "data": {
      "text/plain": [
       "'Audience says: tumbler ...'"
      ]
     },
     "execution_count": 27,
     "metadata": {},
     "output_type": "execute_result"
    }
   ],
   "source": [
    "correct_text('Audiance sayzs: tumblr ...')"
   ]
  },
  {
   "cell_type": "code",
   "execution_count": 28,
   "metadata": {
    "collapsed": true
   },
   "outputs": [],
   "source": [
    "def pdist(counter):\n",
    "    \"Make a probability distribution, given evidence from a Counter.\"\n",
    "    N = sum(list(counter.values()))\n",
    "    return lambda x: counter[x]/N\n",
    "\n",
    "P = pdist(COUNTS)"
   ]
  },
  {
   "cell_type": "code",
   "execution_count": 29,
   "metadata": {},
   "outputs": [
    {
     "name": "stdout",
     "output_type": "stream",
     "text": [
      "0.0724066643445 the\n",
      "0.00884296810325 is\n",
      "0.000821507574969 most\n",
      "0.00025966153526 common\n",
      "0.000269613719538 word\n",
      "0.0199496057578 in\n",
      "0.000190900989338 english\n"
     ]
    }
   ],
   "source": [
    "for w in tokens('\"The\" is most common word in English'):\n",
    "    print(P(w), w)"
   ]
  },
  {
   "cell_type": "code",
   "execution_count": 30,
   "metadata": {
    "collapsed": true
   },
   "outputs": [],
   "source": [
    "def Pwords(words):\n",
    "    return product(P(w) for w in words)\n",
    "\n",
    "def product(nums):\n",
    "    result = 1\n",
    "    for x in nums:\n",
    "        result *= x\n",
    "    return result"
   ]
  },
  {
   "cell_type": "code",
   "execution_count": 31,
   "metadata": {},
   "outputs": [
    {
     "name": "stdout",
     "output_type": "stream",
     "text": [
      "2.9833963328e-11 this is a test\n",
      "8.63747202302e-16 this is a unusual test\n",
      "0.0 this is a neverbeforeseen test\n"
     ]
    }
   ],
   "source": [
    "tests = ['this is a test', \n",
    "         'this is a unusual test',\n",
    "         'this is a neverbeforeseen test']\n",
    "\n",
    "for test in tests:\n",
    "    print(Pwords(tokens(test)), test)"
   ]
  },
  {
   "cell_type": "markdown",
   "metadata": {},
   "source": [
    "References:\n",
    "\n",
    "https://web.stanford.edu/class/cs276/pa/pa2.p\n",
    "\n",
    "http://web.stanford.edu/~jurafsky/slp3/5.pdf\n",
    "\n",
    "http://norvig.com/ngrams/spell-errors.txt\n",
    "\n",
    "http://nbviewer.jupyter.org/url/norvig.com/ipython/How%20to%20Do%20Things%20with%20Words.ipynb\n",
    "\n",
    "http://norvig.com/big.txt\n",
    "\n",
    "http://norvig.com/ngrams/count_1w.txt\n",
    "\n",
    "http://norvig.com/ngrams/"
   ]
  },
  {
   "cell_type": "code",
   "execution_count": null,
   "metadata": {
    "collapsed": true
   },
   "outputs": [],
   "source": []
  }
 ],
 "metadata": {
  "kernelspec": {
   "display_name": "Python 3",
   "language": "python",
   "name": "python3"
  },
  "language_info": {
   "codemirror_mode": {
    "name": "ipython",
    "version": 3
   },
   "file_extension": ".py",
   "mimetype": "text/x-python",
   "name": "python",
   "nbconvert_exporter": "python",
   "pygments_lexer": "ipython3",
   "version": "3.6.3"
  }
 },
 "nbformat": 4,
 "nbformat_minor": 1
}
